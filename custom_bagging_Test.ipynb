{
 "cells": [
  {
   "cell_type": "code",
   "execution_count": 2,
   "metadata": {},
   "outputs": [],
   "source": [
    "from preprocessing import preprocess \n",
    "from cols_trie import gen_trie\n",
    "import numpy as np\n",
    "import pandas as pd\n",
    "import json\n",
    "import os\n",
    "\n",
    "from sklearn.model_selection import train_test_split\n",
    "from sklearn.preprocessing import StandardScaler\n",
    "from sklearn.metrics import accuracy_score, classification_report, f1_score\n",
    "from sklearn.svm import SVC"
   ]
  },
  {
   "cell_type": "code",
   "execution_count": 3,
   "metadata": {},
   "outputs": [],
   "source": [
    "df_train = pd.read_csv('datasets/train_radiomics_hipocamp.csv')\n",
    "df_test = pd.read_csv('datasets/test_radiomics_hipocamp.csv')\n"
   ]
  },
  {
   "cell_type": "code",
   "execution_count": null,
   "metadata": {},
   "outputs": [
    {
     "data": {
      "text/plain": [
       "array([12, 19,  2, 14, 14])"
      ]
     },
     "execution_count": 7,
     "metadata": {},
     "output_type": "execute_result"
    }
   ],
   "source": [
    "\n",
    "X_train, X_test, y_train, y_test, le = preprocess(df_train,mode=\"normal\",stratify=True)\n",
    "\n",
    "processed_df_train = pd.concat([X_train, pd.Series(y_train, name='Transition')], axis=1)\n",
    "\n",
    "cols_trie = gen_trie(X_train.columns)\n",
    "\n",
    "important = {\"Age\", \"Sex\",\"diagnostics\",\"Transition\"}\n",
    "target = \"Transition\"\n",
    "important_cols = [list(filter(lambda x:x.startswith(g), processed_df_train.columns)) for g in important]\n",
    "important_cols = [item for sublist in important_cols for item in sublist]\n",
    "groups = set(cols_trie.keys()) - (important | {target})\n",
    "\n",
    "grouped = [list(filter(lambda x:x.startswith(g), processed_df_train.columns)) for g in groups]\n",
    "model_col_pairs=[(SVC(probability=True,random_state=42,C=5,gamma='auto',kernel='rbf'),cols) for cols in grouped]\n"
   ]
  },
  {
   "cell_type": "code",
   "execution_count": 8,
   "metadata": {},
   "outputs": [],
   "source": [
    "from imblearn.over_sampling import SMOTE\n",
    "smote = SMOTE(random_state=987654321)\n",
    "smote_X_train, smote_y_train = smote.fit_resample(X_train, y_train)"
   ]
  },
  {
   "cell_type": "code",
   "execution_count": 10,
   "metadata": {},
   "outputs": [],
   "source": [
    "from model import CustomBAggingFactory\n",
    "m = CustomBAggingFactory(processed_df_train.columns,model_col_pairs)\n",
    "model = m.fit(smote_X_train,pd.Series(smote_y_train, name='Transition'))"
   ]
  },
  {
   "cell_type": "code",
   "execution_count": 11,
   "metadata": {},
   "outputs": [],
   "source": [
    "coiso = model.modelPredictions(preprocess(processed_df_train,mode=\"test\"))\n",
    "submission_models = model.modelPredictions(preprocess(df_test,mode=\"test\"))\n",
    "# df_models = pd.concat([coiso, pd.Series(y.values.ravel(), name='Transition')], axis=1)\n",
    "\n",
    "df_models = coiso\n"
   ]
  },
  {
   "cell_type": "code",
   "execution_count": 13,
   "metadata": {},
   "outputs": [
    {
     "name": "stdout",
     "output_type": "stream",
     "text": [
      "              precision    recall  f1-score   support\n",
      "\n",
      "           0       1.00      0.92      0.96        13\n",
      "           1       1.00      0.84      0.91        25\n",
      "           2       0.50      1.00      0.67         1\n",
      "           3       0.82      0.82      0.82        11\n",
      "           4       0.73      1.00      0.85        11\n",
      "\n",
      "    accuracy                           0.89        61\n",
      "   macro avg       0.81      0.92      0.84        61\n",
      "weighted avg       0.91      0.89      0.89        61\n",
      "\n"
     ]
    }
   ],
   "source": [
    "\n",
    "import models\n",
    "\n",
    "meta_model,_ = models.xgboost()\n",
    "\n",
    "meta_X_train, meta_X_test, meta_y_train, meta_y_test = train_test_split(df_models,y_train)\n",
    "meta_model.fit(meta_X_train,meta_y_train)\n",
    "y_pred = meta_model.predict(meta_X_test)\n",
    "\n",
    "print(classification_report(meta_y_test, y_pred))"
   ]
  },
  {
   "cell_type": "code",
   "execution_count": 14,
   "metadata": {},
   "outputs": [],
   "source": [
    "submission= meta_model.predict(submission_models)\n",
    "\n",
    "submission = pd.DataFrame(\n",
    "    {'RowId': df_test.index + 1, 'Result': le.inverse_transform(submission)})\n",
    "\n",
    "with open(f'good_submissions/customBagging.csv', 'w+') as file:\n",
    "    submission.to_csv(file, index=False, sep=\",\")"
   ]
  }
 ],
 "metadata": {
  "kernelspec": {
   "display_name": ".venv",
   "language": "python",
   "name": "python3"
  },
  "language_info": {
   "codemirror_mode": {
    "name": "ipython",
    "version": 3
   },
   "file_extension": ".py",
   "mimetype": "text/x-python",
   "name": "python",
   "nbconvert_exporter": "python",
   "pygments_lexer": "ipython3",
   "version": "3.12.3"
  }
 },
 "nbformat": 4,
 "nbformat_minor": 2
}
