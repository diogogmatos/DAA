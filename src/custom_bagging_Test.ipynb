{
 "cells": [
  {
   "cell_type": "code",
   "execution_count": 1,
   "metadata": {},
   "outputs": [],
   "source": [
    "from preprocessing import preprocess \n",
    "from cols_trie import gen_trie\n",
    "import numpy as np\n",
    "import pandas as pd\n",
    "import json\n",
    "import os\n",
    "\n",
    "from sklearn.model_selection import train_test_split\n",
    "from sklearn.preprocessing import StandardScaler,LabelEncoder\n",
    "from sklearn.metrics import accuracy_score, classification_report, f1_score\n",
    "from sklearn.svm import SVC"
   ]
  },
  {
   "cell_type": "code",
   "execution_count": 2,
   "metadata": {},
   "outputs": [
    {
     "name": "stdout",
     "output_type": "stream",
     "text": [
      "<class 'pandas.core.frame.DataFrame'>\n",
      "RangeIndex: 305 entries, 0 to 304\n",
      "Columns: 2181 entries, ID to Transition\n",
      "dtypes: float64(2014), int64(147), object(20)\n",
      "memory usage: 5.1+ MB\n"
     ]
    }
   ],
   "source": [
    "df_train = pd.read_csv('datasets/train_radiomics_hipocamp.csv')\n",
    "df_test = pd.read_csv('datasets/test_radiomics_hipocamp.csv')\n",
    "df_train.info()"
   ]
  },
  {
   "cell_type": "code",
   "execution_count": 3,
   "metadata": {},
   "outputs": [],
   "source": [
    "X_train, X_test, y_train, y_test, le = preprocess(df_train,mode=\"normal\")\n"
   ]
  },
  {
   "cell_type": "code",
   "execution_count": 4,
   "metadata": {},
   "outputs": [],
   "source": [
    "\n",
    "processed_df_train = pd.concat([X_train, pd.Series(y_train, name='Transition')], axis=1)\n",
    "\n",
    "cols_trie = gen_trie(X_train.columns)\n",
    "\n",
    "important = {\"Age\", \"Sex\",\"diagnostics\",\"Transition\"}\n",
    "target = \"Transition\"\n",
    "important_cols = [list(filter(lambda x:x.startswith(g), processed_df_train.columns)) for g in important]\n",
    "important_cols = [item for sublist in important_cols for item in sublist]\n",
    "groups = set(cols_trie.keys()) - (important | {target})\n",
    "\n",
    "grouped = [list(filter(lambda x:x.startswith(g), processed_df_train.columns)) for g in groups | important-{target}]\n",
    "model_col_pairs=[(SVC(probability=True,random_state=42,C=5,gamma='auto',kernel='rbf'),cols) for cols in grouped]\n"
   ]
  },
  {
   "cell_type": "code",
   "execution_count": 5,
   "metadata": {},
   "outputs": [],
   "source": [
    "from imblearn.over_sampling import SMOTE\n",
    "smote = SMOTE(random_state=987654321)\n",
    "smote_X_train, smote_y_train = smote.fit_resample(X_train, y_train)"
   ]
  },
  {
   "cell_type": "code",
   "execution_count": 11,
   "metadata": {},
   "outputs": [],
   "source": [
    "from sklearn.linear_model import LogisticRegression\n",
    "from sklearn.tree import DecisionTreeClassifier\n",
    "from custom_bagging import CustomBAgging\n",
    "from models import decision_tree\n",
    "meta_learner = DecisionTreeClassifier(random_state=987654321)\n",
    "m = CustomBAgging(processed_df_train.columns,model_col_pairs,meta_learner=meta_learner)\n",
    "model = m.fit(smote_X_train,pd.Series(smote_y_train, name='Transition'))"
   ]
  },
  {
   "cell_type": "code",
   "execution_count": 12,
   "metadata": {},
   "outputs": [
    {
     "data": {
      "text/plain": [
       "{'0': {'precision': 0.4166666666666667,\n",
       "  'recall': 0.2777777777777778,\n",
       "  'f1-score': 0.3333333333333333,\n",
       "  'support': 18.0},\n",
       " '1': {'precision': 0.2857142857142857,\n",
       "  'recall': 0.4,\n",
       "  'f1-score': 0.3333333333333333,\n",
       "  'support': 15.0},\n",
       " '2': {'precision': 0.0, 'recall': 0.0, 'f1-score': 0.0, 'support': 1.0},\n",
       " '3': {'precision': 0.16666666666666666,\n",
       "  'recall': 0.3,\n",
       "  'f1-score': 0.21428571428571427,\n",
       "  'support': 10.0},\n",
       " '4': {'precision': 0.1111111111111111,\n",
       "  'recall': 0.058823529411764705,\n",
       "  'f1-score': 0.07692307692307693,\n",
       "  'support': 17.0},\n",
       " 'accuracy': 0.2459016393442623,\n",
       " 'macro avg': {'precision': 0.196031746031746,\n",
       "  'recall': 0.20732026143790852,\n",
       "  'f1-score': 0.19157509157509156,\n",
       "  'support': 61.0},\n",
       " 'weighted avg': {'precision': 0.25149622690606294,\n",
       "  'recall': 0.2459016393442623,\n",
       "  'f1-score': 0.23689425328769592,\n",
       "  'support': 61.0}}"
      ]
     },
     "execution_count": 12,
     "metadata": {},
     "output_type": "execute_result"
    }
   ],
   "source": [
    "y_pred = model.predict(X_test)\n",
    "y_pred\n",
    "\n",
    "classification_report(y_pred,y_test,output_dict=True)"
   ]
  }
 ],
 "metadata": {
  "kernelspec": {
   "display_name": ".venvDiogo",
   "language": "python",
   "name": "python3"
  },
  "language_info": {
   "codemirror_mode": {
    "name": "ipython",
    "version": 3
   },
   "file_extension": ".py",
   "mimetype": "text/x-python",
   "name": "python",
   "nbconvert_exporter": "python",
   "pygments_lexer": "ipython3",
   "version": "3.12.0"
  }
 },
 "nbformat": 4,
 "nbformat_minor": 2
}
